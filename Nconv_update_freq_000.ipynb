{
 "cells": [
  {
   "cell_type": "code",
   "execution_count": 1,
   "metadata": {
    "ExecuteTime": {
     "end_time": "2020-02-17T08:43:59.347844Z",
     "start_time": "2020-02-17T08:43:58.424360Z"
    }
   },
   "outputs": [
    {
     "data": {
      "text/html": [
       "        <script type=\"text/javascript\">\n",
       "        window.PlotlyConfig = {MathJaxConfig: 'local'};\n",
       "        if (window.MathJax) {MathJax.Hub.Config({SVG: {font: \"STIX-Web\"}});}\n",
       "        if (typeof require !== 'undefined') {\n",
       "        require.undef(\"plotly\");\n",
       "        requirejs.config({\n",
       "            paths: {\n",
       "                'plotly': ['https://cdn.plot.ly/plotly-latest.min']\n",
       "            }\n",
       "        });\n",
       "        require(['plotly'], function(Plotly) {\n",
       "            window._Plotly = Plotly;\n",
       "        });\n",
       "        }\n",
       "        </script>\n",
       "        "
      ]
     },
     "metadata": {},
     "output_type": "display_data"
    }
   ],
   "source": [
    "import pandas as pd\n",
    "import cufflinks as cf\n",
    "cf.go_offline()"
   ]
  },
  {
   "cell_type": "code",
   "execution_count": 2,
   "metadata": {
    "ExecuteTime": {
     "end_time": "2020-02-17T08:43:59.479903Z",
     "start_time": "2020-02-17T08:43:59.350012Z"
    }
   },
   "outputs": [
    {
     "data": {
      "text/html": [
       "<div>\n",
       "<style scoped>\n",
       "    .dataframe tbody tr th:only-of-type {\n",
       "        vertical-align: middle;\n",
       "    }\n",
       "\n",
       "    .dataframe tbody tr th {\n",
       "        vertical-align: top;\n",
       "    }\n",
       "\n",
       "    .dataframe thead th {\n",
       "        text-align: right;\n",
       "    }\n",
       "</style>\n",
       "<table border=\"1\" class=\"dataframe\">\n",
       "  <thead>\n",
       "    <tr style=\"text-align: right;\">\n",
       "      <th></th>\n",
       "      <th>updateTime</th>\n",
       "      <th>provinceName</th>\n",
       "      <th>provinceEnglishName</th>\n",
       "      <th>province_zipCode</th>\n",
       "      <th>province_confirmedCount</th>\n",
       "      <th>province_suspectedCount</th>\n",
       "      <th>province_curedCount</th>\n",
       "      <th>province_deadCount</th>\n",
       "    </tr>\n",
       "  </thead>\n",
       "  <tbody>\n",
       "    <tr>\n",
       "      <th>0</th>\n",
       "      <td>2020-02-17 13:15:41.559</td>\n",
       "      <td>广东省</td>\n",
       "      <td>Guangdong</td>\n",
       "      <td>440000</td>\n",
       "      <td>1322</td>\n",
       "      <td>0</td>\n",
       "      <td>484</td>\n",
       "      <td>4</td>\n",
       "    </tr>\n",
       "    <tr>\n",
       "      <th>21</th>\n",
       "      <td>2020-02-17 13:13:39.175</td>\n",
       "      <td>广东省</td>\n",
       "      <td>Guangdong</td>\n",
       "      <td>440000</td>\n",
       "      <td>1322</td>\n",
       "      <td>0</td>\n",
       "      <td>483</td>\n",
       "      <td>4</td>\n",
       "    </tr>\n",
       "    <tr>\n",
       "      <th>42</th>\n",
       "      <td>2020-02-17 13:12:37.938</td>\n",
       "      <td>四川省</td>\n",
       "      <td>Sichuan</td>\n",
       "      <td>510000</td>\n",
       "      <td>495</td>\n",
       "      <td>0</td>\n",
       "      <td>137</td>\n",
       "      <td>3</td>\n",
       "    </tr>\n",
       "    <tr>\n",
       "      <th>64</th>\n",
       "      <td>2020-02-17 13:07:31.627</td>\n",
       "      <td>安徽省</td>\n",
       "      <td>Anhui</td>\n",
       "      <td>340000</td>\n",
       "      <td>973</td>\n",
       "      <td>0</td>\n",
       "      <td>278</td>\n",
       "      <td>6</td>\n",
       "    </tr>\n",
       "    <tr>\n",
       "      <th>80</th>\n",
       "      <td>2020-02-17 13:07:31.627</td>\n",
       "      <td>河北省</td>\n",
       "      <td>Hebei</td>\n",
       "      <td>130000</td>\n",
       "      <td>301</td>\n",
       "      <td>0</td>\n",
       "      <td>111</td>\n",
       "      <td>3</td>\n",
       "    </tr>\n",
       "  </tbody>\n",
       "</table>\n",
       "</div>"
      ],
      "text/plain": [
       "                updateTime provinceName provinceEnglishName  province_zipCode  \\\n",
       "0  2020-02-17 13:15:41.559          广东省           Guangdong            440000   \n",
       "21 2020-02-17 13:13:39.175          广东省           Guangdong            440000   \n",
       "42 2020-02-17 13:12:37.938          四川省             Sichuan            510000   \n",
       "64 2020-02-17 13:07:31.627          安徽省               Anhui            340000   \n",
       "80 2020-02-17 13:07:31.627          河北省               Hebei            130000   \n",
       "\n",
       "    province_confirmedCount  province_suspectedCount  province_curedCount  \\\n",
       "0                      1322                        0                  484   \n",
       "21                     1322                        0                  483   \n",
       "42                      495                        0                  137   \n",
       "64                      973                        0                  278   \n",
       "80                      301                        0                  111   \n",
       "\n",
       "    province_deadCount  \n",
       "0                    4  \n",
       "21                   4  \n",
       "42                   3  \n",
       "64                   6  \n",
       "80                   3  "
      ]
     },
     "execution_count": 2,
     "metadata": {},
     "output_type": "execute_result"
    }
   ],
   "source": [
    "area = pd.read_csv('DXYArea.csv')\n",
    "area['updateTime'] = pd.to_datetime(area['updateTime'])\n",
    "\n",
    "province_cols = [col for col in area.columns if 'province' in col]\n",
    "province = area[['updateTime'] + province_cols].drop_duplicates()\n",
    "province.head()"
   ]
  },
  {
   "cell_type": "code",
   "execution_count": 4,
   "metadata": {
    "ExecuteTime": {
     "end_time": "2020-02-17T08:43:59.512785Z",
     "start_time": "2020-02-17T08:43:59.507272Z"
    }
   },
   "outputs": [],
   "source": [
    "def calcu_update_freq(var):\n",
    "    df = province.groupby(['provinceName', var])['updateTime'].last().reset_index()\n",
    "    df.sort_values(['provinceName', 'updateTime'], inplace=True)\n",
    "    df['shiftedUpdateTime'] = df.groupby('provinceName').updateTime.shift(1)\n",
    "    df['updateFreqHours'] = ((df.updateTime - df['shiftedUpdateTime']).dt.total_seconds() / 3600).round(2)\n",
    "    df['updateValues'] = df[var] - df.groupby('provinceName')[var].shift(1)\n",
    "    df = df.groupby('provinceName')['updateFreqHours', 'updateValues'].quantile(0.5)\n",
    "    return df"
   ]
  },
  {
   "cell_type": "code",
   "execution_count": 5,
   "metadata": {
    "ExecuteTime": {
     "end_time": "2020-02-17T08:43:59.683688Z",
     "start_time": "2020-02-17T08:43:59.514796Z"
    }
   },
   "outputs": [],
   "source": [
    "confirmed_freq = calcu_update_freq('province_confirmedCount')\n",
    "confirmed_freq.columns = [col+'_confirmed' for col in confirmed_freq.columns]\n",
    "\n",
    "cured_freq = calcu_update_freq('province_curedCount')\n",
    "cured_freq.columns = [col+'_cured' for col in cured_freq.columns]\n",
    "\n",
    "dead_freq = calcu_update_freq('province_deadCount')\n",
    "dead_freq.columns = [col+'_dead' for col in dead_freq.columns]\n",
    "\n",
    "update_freq = cured_freq.join(confirmed_freq).join(dead_freq)"
   ]
  },
  {
   "cell_type": "code",
   "execution_count": 6,
   "metadata": {
    "ExecuteTime": {
     "end_time": "2020-02-17T08:43:59.696133Z",
     "start_time": "2020-02-17T08:43:59.687503Z"
    }
   },
   "outputs": [],
   "source": [
    "update_freq['current_confirmed'] = province.groupby('provinceName')['province_confirmedCount'].max().sort_values()"
   ]
  },
  {
   "cell_type": "code",
   "execution_count": 7,
   "metadata": {
    "ExecuteTime": {
     "end_time": "2020-02-17T08:43:59.703892Z",
     "start_time": "2020-02-17T08:43:59.698250Z"
    },
    "scrolled": true
   },
   "outputs": [],
   "source": [
    "update_freq.to_csv('update_freq.csv')"
   ]
  }
 ],
 "metadata": {
  "kernelspec": {
   "display_name": "Python 3",
   "language": "python",
   "name": "python3"
  },
  "language_info": {
   "codemirror_mode": {
    "name": "ipython",
    "version": 3
   },
   "file_extension": ".py",
   "mimetype": "text/x-python",
   "name": "python",
   "nbconvert_exporter": "python",
   "pygments_lexer": "ipython3",
   "version": "3.7.6"
  },
  "toc": {
   "base_numbering": 1,
   "nav_menu": {},
   "number_sections": true,
   "sideBar": true,
   "skip_h1_title": false,
   "title_cell": "Table of Contents",
   "title_sidebar": "Contents",
   "toc_cell": false,
   "toc_position": {
    "height": "calc(100% - 180px)",
    "left": "10px",
    "top": "150px",
    "width": "201.875px"
   },
   "toc_section_display": true,
   "toc_window_display": false
  },
  "varInspector": {
   "cols": {
    "lenName": 16,
    "lenType": 16,
    "lenVar": 40
   },
   "kernels_config": {
    "python": {
     "delete_cmd_postfix": "",
     "delete_cmd_prefix": "del ",
     "library": "var_list.py",
     "varRefreshCmd": "print(var_dic_list())"
    },
    "r": {
     "delete_cmd_postfix": ") ",
     "delete_cmd_prefix": "rm(",
     "library": "var_list.r",
     "varRefreshCmd": "cat(var_dic_list()) "
    }
   },
   "types_to_exclude": [
    "module",
    "function",
    "builtin_function_or_method",
    "instance",
    "_Feature"
   ],
   "window_display": false
  }
 },
 "nbformat": 4,
 "nbformat_minor": 2
}
